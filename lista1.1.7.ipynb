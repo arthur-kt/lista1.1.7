{
 "cells": [
  {
   "cell_type": "markdown",
   "id": "454337f4",
   "metadata": {},
   "source": [
    "### 7. refaça o exercício anterior para a progress˜ao geom´etrica:\n",
    "\n",
    "Determine o n-esimo termo e a soma dos termos de uma progress˜ao aritm´etica onde n, primeiro termo e a razão são dados pelo usuário."
   ]
  },
  {
   "cell_type": "code",
   "execution_count": 3,
   "id": "d9bdcef5",
   "metadata": {},
   "outputs": [],
   "source": [
    "# Atribuição de variáveis\n",
    "\n",
    "n = 0\n",
    "pg_0 = 0\n",
    "pg_n = 0\n",
    "q = 0\n",
    "soma_pg = 0"
   ]
  },
  {
   "cell_type": "code",
   "execution_count": 8,
   "id": "e358b147",
   "metadata": {},
   "outputs": [
    {
     "name": "stdout",
     "output_type": "stream",
     "text": [
      "Quantidade de termos (n): 5\n",
      "Primeiro termo: 1\n",
      "Razão: 2\n"
     ]
    }
   ],
   "source": [
    "# Entrada de dados\n",
    "\n",
    "n = float(input(\"Quantidade de termos (n): \"))\n",
    "pg_0 = float(input(\"Primeiro termo: \"))\n",
    "q = float(input(\"Razão: \"))"
   ]
  },
  {
   "cell_type": "code",
   "execution_count": 9,
   "id": "24669c58",
   "metadata": {},
   "outputs": [],
   "source": [
    "# Processamento de dados\n",
    "\n",
    "pg_n = pg_0 * (q**(n-1))\n",
    "soma_pg = (pg_0*((q**n)-1))/(q-1)"
   ]
  },
  {
   "cell_type": "code",
   "execution_count": 10,
   "id": "85af9eaf",
   "metadata": {},
   "outputs": [
    {
     "name": "stdout",
     "output_type": "stream",
     "text": [
      "A progressão geométrica que contém 5.0 termos, começando pelo termo 1.0 e de razão 2.0, resulta no termo final 16.0 e a soma de seus termos é 31.0\n"
     ]
    }
   ],
   "source": [
    "# Saída de dados\n",
    "\n",
    "print(f'A progressão geométrica que contém {n} termos, começando pelo termo {pg_0} e de razão {q}, resulta no termo final {pg_n} e a soma de seus termos é {soma_pg}')"
   ]
  },
  {
   "cell_type": "code",
   "execution_count": null,
   "id": "89d604fa",
   "metadata": {},
   "outputs": [],
   "source": []
  }
 ],
 "metadata": {
  "kernelspec": {
   "display_name": "Python 3 (ipykernel)",
   "language": "python",
   "name": "python3"
  },
  "language_info": {
   "codemirror_mode": {
    "name": "ipython",
    "version": 3
   },
   "file_extension": ".py",
   "mimetype": "text/x-python",
   "name": "python",
   "nbconvert_exporter": "python",
   "pygments_lexer": "ipython3",
   "version": "3.10.9"
  }
 },
 "nbformat": 4,
 "nbformat_minor": 5
}
